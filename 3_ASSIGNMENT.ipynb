{
 "cells": [
  {
   "cell_type": "markdown",
   "id": "b551d59c-f06c-4fe3-ad95-c39e272974f2",
   "metadata": {},
   "source": [
    "Q1. Which keyword is used to create a function? Create a function to return a list of odd numbers in the\n",
    "range of 1 to 25."
   ]
  },
  {
   "cell_type": "markdown",
   "id": "bbfebc31-878c-4732-97d6-6e04f49d55c8",
   "metadata": {},
   "source": [
    "A1. def keyword is used to create a function. `"
   ]
  },
  {
   "cell_type": "code",
   "execution_count": 2,
   "id": "e95cfffb-2e32-4c05-916a-a152b3c29c4b",
   "metadata": {},
   "outputs": [],
   "source": [
    "l=[]\n",
    "def odd():\n",
    "    for i in range (0,26):\n",
    "        if (i%2!=0):\n",
    "            l.append(i)\n",
    "    return l"
   ]
  },
  {
   "cell_type": "code",
   "execution_count": 3,
   "id": "5c1190b5-cd62-4461-8f71-d36cfe409fb6",
   "metadata": {},
   "outputs": [
    {
     "data": {
      "text/plain": [
       "[1, 3, 5, 7, 9, 11, 13, 15, 17, 19, 21, 23, 25]"
      ]
     },
     "execution_count": 3,
     "metadata": {},
     "output_type": "execute_result"
    }
   ],
   "source": [
    "odd()"
   ]
  },
  {
   "cell_type": "markdown",
   "id": "a8b788cd-5a92-4354-ad0d-4f10ad8e5a89",
   "metadata": {},
   "source": [
    "Q2. Why *args and **kwargs is used in some functions? Create a function each for *args and **kwargs\n",
    "to demonstrate their use."
   ]
  },
  {
   "cell_type": "markdown",
   "id": "c482fb8e-1340-4e13-bc86-5d494f5c6c4b",
   "metadata": {},
   "source": [
    "A2. *args is used to take multiple argument in a function or the number of argument in this is not predefined and *args is static and **kwargs is used to take multiple key value pair as an argument for dictionary and it is also static."
   ]
  },
  {
   "cell_type": "code",
   "execution_count": 8,
   "id": "afff4756-163f-4b60-9393-94b532cdad95",
   "metadata": {},
   "outputs": [],
   "source": [
    "def addition(*args):\n",
    "    return sum(args)"
   ]
  },
  {
   "cell_type": "code",
   "execution_count": 12,
   "id": "9ddceee5-fab9-4c41-9125-873f07e7a361",
   "metadata": {},
   "outputs": [
    {
     "data": {
      "text/plain": [
       "21"
      ]
     },
     "execution_count": 12,
     "metadata": {},
     "output_type": "execute_result"
    }
   ],
   "source": [
    "addition(1,2,3,4,5,6)"
   ]
  },
  {
   "cell_type": "code",
   "execution_count": 15,
   "id": "0cab33fa-f32c-4e20-b104-794bb10b57eb",
   "metadata": {},
   "outputs": [],
   "source": [
    "def dictionary(**kwargs):\n",
    "    return kwargs"
   ]
  },
  {
   "cell_type": "code",
   "execution_count": 16,
   "id": "8f5ed0d1-f09a-4932-9b38-e54e5006f553",
   "metadata": {},
   "outputs": [
    {
     "data": {
      "text/plain": [
       "{'name': 'apoorv singh',\n",
       " 'section': 'A',\n",
       " 'branch': 'CSE',\n",
       " 'course': 'data science'}"
      ]
     },
     "execution_count": 16,
     "metadata": {},
     "output_type": "execute_result"
    }
   ],
   "source": [
    "dictionary(name='apoorv singh',section='A',branch='CSE',course='data science')"
   ]
  },
  {
   "cell_type": "markdown",
   "id": "5f979355-2153-437c-815a-23e43ee7676c",
   "metadata": {},
   "source": [
    "Q3.  What is an iterator in python? Name the method used to initialise the iterator object and the method \n",
    "used for iteration. Use these methods to print the first five elements of the given list [2, 4, 6, 8, 10, 12, 14, \n",
    "16, 18, 20]."
   ]
  },
  {
   "cell_type": "markdown",
   "id": "e54b3ec5-9c0a-4fe0-af9b-e2cc00370f4c",
   "metadata": {},
   "source": [
    "A3. In Python, an iterator is an object that is used to iterate over iterable objects like lists, tuples, dicts, and sets. The Python iterators object is initialized using the iter() method. It uses the next() method for iteration"
   ]
  },
  {
   "cell_type": "code",
   "execution_count": 6,
   "id": "1ebe2a94-cc86-4e91-96d3-1cb353347150",
   "metadata": {},
   "outputs": [
    {
     "name": "stdout",
     "output_type": "stream",
     "text": [
      "2\n",
      "4\n",
      "6\n",
      "8\n",
      "10\n"
     ]
    }
   ],
   "source": [
    "l=[2, 4, 6, 8, 10, 12, 14, 16, 18, 20]\n",
    "a=iter(l)\n",
    "for i in range(0,5):\n",
    "    print(next(a))"
   ]
  },
  {
   "cell_type": "markdown",
   "id": "60c61659-3670-4240-8f10-bdb4a80e5643",
   "metadata": {},
   "source": [
    "Q4.  What is a generator function in python? Why yield keyword is used? Give an example of a generator \n",
    "function."
   ]
  },
  {
   "cell_type": "markdown",
   "id": "c1ff5755-7a82-438b-9a65-443c4f3e89e4",
   "metadata": {},
   "source": [
    "A4. In Python, a generator function is a function that returns an iterator object. It uses the yield keyword instead of return. When the Python interpreter encounters a yield statement in a function, it saves the current state of the function and returns an iterator object."
   ]
  },
  {
   "cell_type": "code",
   "execution_count": 17,
   "id": "d01e9bb3-3390-4e54-8b9e-f2acf9f5a732",
   "metadata": {},
   "outputs": [],
   "source": [
    "def odd(x):\n",
    "    for i in range(x):\n",
    "        if i%2!=0:\n",
    "            yield i"
   ]
  },
  {
   "cell_type": "code",
   "execution_count": 23,
   "id": "15b0f934-8901-48cd-b8f2-5e9256849cad",
   "metadata": {},
   "outputs": [
    {
     "name": "stdout",
     "output_type": "stream",
     "text": [
      "1\n",
      "3\n",
      "5\n",
      "7\n",
      "9\n"
     ]
    }
   ],
   "source": [
    "for i in odd(10):\n",
    "    print(i)"
   ]
  },
  {
   "cell_type": "markdown",
   "id": "72c3d06b-b845-4bc0-b0e6-dc2c12cd5f81",
   "metadata": {},
   "source": [
    "Q5. Create a generator function for prime numbers less than 1000. Use the next() method to print the \n",
    "first 20 prime numbers"
   ]
  },
  {
   "cell_type": "markdown",
   "id": "dcaf5bf0-3102-4f64-928f-67ae34ea10dc",
   "metadata": {},
   "source": [
    "A5."
   ]
  },
  {
   "cell_type": "code",
   "execution_count": 39,
   "id": "b295b61b-f95c-49aa-bda0-088c9b1d34af",
   "metadata": {},
   "outputs": [],
   "source": [
    "def prime():\n",
    "    for i  in range(2,1000):\n",
    "        for j in range(2,i):\n",
    "            if i%j==0:\n",
    "                break\n",
    "        else:\n",
    "            yield i"
   ]
  },
  {
   "cell_type": "code",
   "execution_count": 40,
   "id": "17f921af-933e-4a42-b160-b92e20de7364",
   "metadata": {},
   "outputs": [],
   "source": [
    "a=prime()"
   ]
  },
  {
   "cell_type": "code",
   "execution_count": 41,
   "id": "8aed49f6-5a05-44ee-b122-52e52fc40451",
   "metadata": {},
   "outputs": [
    {
     "name": "stdout",
     "output_type": "stream",
     "text": [
      "2\n",
      "3\n",
      "5\n",
      "7\n",
      "11\n",
      "13\n",
      "17\n",
      "19\n",
      "23\n",
      "29\n",
      "31\n",
      "37\n",
      "41\n",
      "43\n",
      "47\n",
      "53\n",
      "59\n",
      "61\n",
      "67\n",
      "71\n"
     ]
    }
   ],
   "source": [
    "for i in range(20):\n",
    "    print(next(a))"
   ]
  },
  {
   "cell_type": "markdown",
   "id": "583e0898-f167-4ac8-854d-b178acaa3940",
   "metadata": {},
   "source": [
    "Q6. Write a python program to print the first 10 Fibonacci numbers using a while loop."
   ]
  },
  {
   "cell_type": "markdown",
   "id": "24ce9a5e-6491-4cdc-90c6-35e96c86f137",
   "metadata": {},
   "source": [
    "A6. "
   ]
  },
  {
   "cell_type": "code",
   "execution_count": 44,
   "id": "0c535edf-c88f-46d0-89ba-2bb6e302b80c",
   "metadata": {},
   "outputs": [],
   "source": [
    "def fibo():\n",
    "    i=1\n",
    "    a=0\n",
    "    b=1\n",
    "    while(i<=10):\n",
    "        print(a)\n",
    "        i+=1\n",
    "        a,b=b,a+b"
   ]
  },
  {
   "cell_type": "code",
   "execution_count": 45,
   "id": "e1334283-3cc7-40d6-9262-66e867d19833",
   "metadata": {},
   "outputs": [
    {
     "name": "stdout",
     "output_type": "stream",
     "text": [
      "0\n",
      "1\n",
      "1\n",
      "2\n",
      "3\n",
      "5\n",
      "8\n",
      "13\n",
      "21\n",
      "34\n"
     ]
    }
   ],
   "source": [
    "fibo()"
   ]
  },
  {
   "cell_type": "markdown",
   "id": "a87cd3ef-8ba2-45d0-b22f-ba1cc5f8b7bd",
   "metadata": {},
   "source": [
    "Q7. Write a List Comprehension to iterate through the given string: ‘pwskills’.\n",
    "\n",
    "Expected output: ['p', 'w', 's', 'k', 'i', 'l', 'l', 's'] "
   ]
  },
  {
   "cell_type": "markdown",
   "id": "34cb2efd-73fe-437b-a0b5-52a56049c511",
   "metadata": {},
   "source": [
    "A7."
   ]
  },
  {
   "cell_type": "code",
   "execution_count": 46,
   "id": "29a8280f-eda3-403d-b8fb-183972e678c0",
   "metadata": {},
   "outputs": [
    {
     "data": {
      "text/plain": [
       "['p', 'w', 's', 'k', 'i', 'l', 'l', 's']"
      ]
     },
     "execution_count": 46,
     "metadata": {},
     "output_type": "execute_result"
    }
   ],
   "source": [
    "s='pwskills'\n",
    "[i for i in s]"
   ]
  },
  {
   "cell_type": "markdown",
   "id": "7fc19d76-68ef-4b64-9b74-dba24b5d63f2",
   "metadata": {},
   "source": [
    "Q8. Write a python program to check whether a given number is Palindrome or not using a while loop."
   ]
  },
  {
   "cell_type": "code",
   "execution_count": 22,
   "id": "8287bac7-0ea1-46e8-b391-127d1323ff9b",
   "metadata": {},
   "outputs": [
    {
     "name": "stdin",
     "output_type": "stream",
     "text": [
      "ENTER A NUMBER :  101\n"
     ]
    },
    {
     "name": "stdout",
     "output_type": "stream",
     "text": [
      "IT'S A PALINDROME NUMBER\n"
     ]
    }
   ],
   "source": [
    "num=int(input(\"ENTER A NUMBER : \"))\n",
    "temp=num\n",
    "a=1\n",
    "rev=0\n",
    "while(num>0):\n",
    "    b=num%10\n",
    "    rev=rev*10+b\n",
    "    num=num//10\n",
    "if(rev==temp):\n",
    "    print(\"IT'S A PALINDROME NUMBER\")\n",
    "else:\n",
    "    print(\"IT'S NOT A PALINDROME NUMBER\")"
   ]
  },
  {
   "cell_type": "markdown",
   "id": "dd8aa112-101c-4aec-8553-517d3397983c",
   "metadata": {},
   "source": [
    "Q9. Write a code to print odd numbers from 1 to 100 using list comprehension.\n",
    "\n",
    "Note: Use a list comprehension to create a list from 1 to 100 and use another List comprehension to filter \n",
    "out odd numbers"
   ]
  },
  {
   "cell_type": "code",
   "execution_count": 26,
   "id": "a55da1f7-7c30-4ef7-a2df-df4437171f5c",
   "metadata": {},
   "outputs": [
    {
     "name": "stdout",
     "output_type": "stream",
     "text": [
      "[1, 3, 5, 7, 9, 11, 13, 15, 17, 19, 21, 23, 25, 27, 29, 31, 33, 35, 37, 39, 41, 43, 45, 47, 49, 51, 53, 55, 57, 59, 61, 63, 65, 67, 69, 71, 73, 75, 77, 79, 81, 83, 85, 87, 89, 91, 93, 95, 97, 99]\n"
     ]
    }
   ],
   "source": [
    "a=[i for i in range(0,101)]\n",
    "print([j for j in a if j%2!=0])"
   ]
  }
 ],
 "metadata": {
  "kernelspec": {
   "display_name": "Python 3 (ipykernel)",
   "language": "python",
   "name": "python3"
  },
  "language_info": {
   "codemirror_mode": {
    "name": "ipython",
    "version": 3
   },
   "file_extension": ".py",
   "mimetype": "text/x-python",
   "name": "python",
   "nbconvert_exporter": "python",
   "pygments_lexer": "ipython3",
   "version": "3.10.8"
  }
 },
 "nbformat": 4,
 "nbformat_minor": 5
}
